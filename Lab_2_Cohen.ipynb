{
  "nbformat": 4,
  "nbformat_minor": 0,
  "metadata": {
    "colab": {
      "provenance": [],
      "authorship_tag": "ABX9TyPCWo2rKpGj2Ps9o+2uUmdg",
      "include_colab_link": true
    },
    "kernelspec": {
      "name": "python3",
      "display_name": "Python 3"
    },
    "language_info": {
      "name": "python"
    }
  },
  "cells": [
    {
      "cell_type": "markdown",
      "metadata": {
        "id": "view-in-github",
        "colab_type": "text"
      },
      "source": [
        "<a href=\"https://colab.research.google.com/github/brandoncohen23/Probability_Statistics-1/blob/main/Lab_2_Cohen.ipynb\" target=\"_parent\"><img src=\"https://colab.research.google.com/assets/colab-badge.svg\" alt=\"Open In Colab\"/></a>"
      ]
    },
    {
      "cell_type": "markdown",
      "source": [
        "## Stats Notebook Lab #2"
      ],
      "metadata": {
        "id": "Ndq2X3kt3mzk"
      }
    },
    {
      "cell_type": "markdown",
      "source": [
        "## Style Guide for Colab Markdown\n",
        "https://colab.research.google.com/notebooks/markdown_guide.ipynb"
      ],
      "metadata": {
        "id": "Q426Yo5gadeu"
      }
    },
    {
      "cell_type": "markdown",
      "source": [
        "<img src =\"https://www.applesfromny.com/wp-content/uploads/2020/06/SnapdragonNEW.png\">"
      ],
      "metadata": {
        "id": "FJgWmBwAYg8N"
      }
    },
    {
      "cell_type": "markdown",
      "source": [
        "<img src = \"https://upload.wikimedia.org/wikipedia/commons/thumb/e/e3/Oranges_-_whole-halved-segment.jpg/1200px-Oranges_-_whole-halved-segment.jpg\" width = 200>"
      ],
      "metadata": {
        "id": "XEG4Lg7aZASP"
      }
    },
    {
      "cell_type": "markdown",
      "source": [
        "## Math Typesetting\n",
        "\n",
        "[LaTeX Guide](https://github.com/williamedwardhahn/Probability_Statistics/blob/main/Math_LaTeX.pdf)"
      ],
      "metadata": {
        "id": "1V_KytjhlBGU"
      }
    },
    {
      "cell_type": "markdown",
      "source": [
        "Lorem ipsum dolor sit amet, consectetur adipiscing elit. Nullam convallis ut arcu sed viverra. Fusce laoreet auctor libero, a interdum tellus commodo eget. Donec enim arcu, posuere gravida tincidunt ac, convallis ut lacus. Cras et tellus mattis, rhoncus nisl in, vulputate ipsum. Nullam vulputate tellus nisl, quis egestas lacus accumsan semper. Vivamus egestas nisl porta est lacinia, ut vehicula nulla sagittis. Curabitur non augue auctor, vehicula urna ac, dapibus elit. Proin blandit hendrerit nisi. Nam non tincidunt metus, vitae cursus dui.\n",
        "\n",
        "Phasellus sit amet malesuada leo, id semper massa. Praesent nec placerat nulla. Suspendisse placerat sapien ut suscipit sagittis. Interdum et malesuada fames ac ante ipsum primis in faucibus. Donec eleifend vitae lorem non pulvinar. Sed auctor semper imperdiet. Ut a ex felis. In bibendum efficitur ornare. Ut pharetra congue justo, non varius libero pretium quis. Cras fermentum tempus est a mollis. Vestibulum gravida, mauris vel ultricies vestibulum, leo turpis volutpat massa, a varius nibh metus sed sapien. Pellentesque id augue ut velit posuere iaculis. Nullam porta lectus fringilla, sollicitudin diam ut, placerat felis. Ut elementum felis in nisl feugiat accumsan. Aliquam orci odio, efficitur id justo at, tincidunt pellentesque arcu. Sed aliquam dapibus augue, eget vehicula nunc malesuada quis."
      ],
      "metadata": {
        "id": "Sunbkhr8YKvs"
      }
    },
    {
      "cell_type": "markdown",
      "source": [
        "x"
      ],
      "metadata": {
        "id": "SXrJ3SoKw-R8"
      }
    },
    {
      "cell_type": "markdown",
      "source": [
        "$x$"
      ],
      "metadata": {
        "id": "PupAdFqDw8oQ"
      }
    },
    {
      "cell_type": "markdown",
      "source": [
        "7"
      ],
      "metadata": {
        "id": "3IX3dXCoxApd"
      }
    },
    {
      "cell_type": "markdown",
      "source": [
        "$7$"
      ],
      "metadata": {
        "id": "wKvsoHv2xBnO"
      }
    },
    {
      "cell_type": "markdown",
      "source": [
        "$y = m x + b$"
      ],
      "metadata": {
        "id": "o7nfo6vuxHO6"
      }
    },
    {
      "cell_type": "markdown",
      "source": [
        "$\\frac{a}{b}$"
      ],
      "metadata": {
        "id": "NTYKJW6gx8nd"
      }
    },
    {
      "cell_type": "markdown",
      "source": [
        "$a^b$"
      ],
      "metadata": {
        "id": "JsULfOzux9vq"
      }
    },
    {
      "cell_type": "markdown",
      "source": [
        "$a_b$"
      ],
      "metadata": {
        "id": "4pYW8QODyAV7"
      }
    },
    {
      "cell_type": "markdown",
      "source": [
        "$f(x) = \\frac{1}{\\sigma\\sqrt{2\\pi}}e^{-\\frac{1}{2}(\\frac{x-\\mu}{\\sigma})^2}$"
      ],
      "metadata": {
        "id": "LkU2F2mhxRpP"
      }
    },
    {
      "cell_type": "markdown",
      "source": [
        "## Pie Chart"
      ],
      "metadata": {
        "id": "Qq7B-M1S3yHi"
      }
    },
    {
      "cell_type": "code",
      "execution_count": 146,
      "metadata": {
        "colab": {
          "base_uri": "https://localhost:8080/",
          "height": 0
        },
        "id": "pY15DpRY1UEC",
        "outputId": "aeec65b3-8fdd-469d-97be-699cd8cbe302"
      },
      "outputs": [
        {
          "output_type": "execute_result",
          "data": {
            "text/plain": [
              "(-1.2142507666786346,\n",
              " 1.134711077927507,\n",
              " -1.1258468317413044,\n",
              " 1.101230806657754)"
            ]
          },
          "metadata": {},
          "execution_count": 146
        },
        {
          "output_type": "display_data",
          "data": {
            "text/plain": [
              "<Figure size 432x288 with 1 Axes>"
            ],
            "image/png": "[encoded data removed]"
          },
          "metadata": {}
        }
      ],
      "source": [
        "import matplotlib.pyplot as plt # importing the  math plot library program\n",
        "\n",
        "labels = ['Frogs','Dogs', 'Cats', 'Birds'] # pie chart labels\n",
        "\n",
        "sizes = [15,30,45,10] # pie chart sizes\n",
        "\n",
        "explode =(0,0.1,0,0) # pie chart separates\n",
        "\n",
        "fig1,ax1 = plt.subplots() # setting up the pie chart\n",
        "ax1.pie(sizes, explode = explode, \n",
        "        labels = labels, \n",
        "        autopct = '%1.1f%%', \n",
        "        shadow = True, \n",
        "        startangle=90) \n",
        "ax1.axis('equal')"
      ]
    },
    {
      "cell_type": "code",
      "source": [
        "labels = ['Horses','Cows', 'Bulls', 'Monkeys'] # labels the pie chart\n",
        "\n",
        "sizes = [22,40,55,17] # size of the pie chart pieces\n",
        "\n",
        "explode =(0.1,0,0,0) # separates pie chart\n",
        "\n",
        "fig1,ax1 = plt.subplots()\n",
        "ax1.pie(sizes, explode = explode, \n",
        "        labels = labels, \n",
        "        autopct = '%1.1f%%', \n",
        "        shadow = True, \n",
        "        startangle=90) \n",
        "ax1.axis('equal')"
      ],
      "metadata": {
        "colab": {
          "base_uri": "https://localhost:8080/",
          "height": 0
        },
        "id": "a0SKKKS41Z4O",
        "outputId": "73cdceee-cbb7-4ecc-bbc2-bafcb9cbcba1"
      },
      "execution_count": 147,
      "outputs": [
        {
          "output_type": "execute_result",
          "data": {
            "text/plain": [
              "(-1.1099682611194666,\n",
              " 1.1209766180808685,\n",
              " -1.128495160203209,\n",
              " 1.1924899613980244)"
            ]
          },
          "metadata": {},
          "execution_count": 147
        },
        {
          "output_type": "display_data",
          "data": {
            "text/plain": [
              "<Figure size 432x288 with 1 Axes>"
            ],
            "image/png": "[encoded data removed]"
          },
          "metadata": {}
        }
      ]
    },
    {
      "cell_type": "markdown",
      "source": [
        "## Text Strings"
      ],
      "metadata": {
        "id": "ihXr2li2PzAH"
      }
    },
    {
      "cell_type": "code",
      "source": [
        "name = 'Brandon' # allows Python to recognize my name"
      ],
      "metadata": {
        "id": "xwpqeO0z1aBc"
      },
      "execution_count": 148,
      "outputs": []
    },
    {
      "cell_type": "code",
      "source": [
        "name # program recognizes my name"
      ],
      "metadata": {
        "colab": {
          "base_uri": "https://localhost:8080/",
          "height": 0
        },
        "id": "A1Q6z-We5NRB",
        "outputId": "96263082-50b4-48fe-8f11-ff05b99f17f6"
      },
      "execution_count": 149,
      "outputs": [
        {
          "output_type": "execute_result",
          "data": {
            "text/plain": [
              "'Brandon'"
            ],
            "application/vnd.google.colaboratory.intrinsic+json": {
              "type": "string"
            }
          },
          "metadata": {},
          "execution_count": 149
        }
      ]
    },
    {
      "cell_type": "code",
      "source": [
        "f\"Hello my name is {name}\" # program fills in my name and completes the introduction"
      ],
      "metadata": {
        "colab": {
          "base_uri": "https://localhost:8080/",
          "height": 0
        },
        "id": "Ykum56ic5PBg",
        "outputId": "2b892fd1-a0d5-442b-c82a-fa8a0c73aafa"
      },
      "execution_count": 150,
      "outputs": [
        {
          "output_type": "execute_result",
          "data": {
            "text/plain": [
              "'Hello my name is Brandon'"
            ],
            "application/vnd.google.colaboratory.intrinsic+json": {
              "type": "string"
            }
          },
          "metadata": {},
          "execution_count": 150
        }
      ]
    },
    {
      "cell_type": "code",
      "source": [],
      "metadata": {
        "id": "oZg_Xmlt5ULQ"
      },
      "execution_count": 150,
      "outputs": []
    },
    {
      "cell_type": "markdown",
      "source": [
        "## Files"
      ],
      "metadata": {
        "id": "K87WptsS5nO4"
      }
    },
    {
      "cell_type": "code",
      "source": [
        "f = open(\"Hello.txt\",'w') # making a text file saying hello world\n",
        "\n",
        "data = \"Hello World\"\n",
        "\n",
        "print(data, file = f)\n",
        "\n",
        "f.close()"
      ],
      "metadata": {
        "id": "PWsnxydO5o1Q"
      },
      "execution_count": 151,
      "outputs": []
    },
    {
      "cell_type": "code",
      "source": [
        "f = open(\"Hello.txt2\",'w') # makes a second text file that says hello Brandon\n",
        "\n",
        "name = \"Brandon\"\n",
        "\n",
        "data = f\"Hello {name}\"\n",
        "\n",
        "print(data, file = f)\n",
        "\n",
        "f.close()"
      ],
      "metadata": {
        "id": "5NzHVTRJ5zZg"
      },
      "execution_count": 152,
      "outputs": []
    },
    {
      "cell_type": "code",
      "source": [
        "f = open(\"Hello.txt\",'r') # reads file text from the created text file\n",
        "\n",
        "lines = f.readlines()\n",
        "\n",
        "print(lines)\n",
        "\n",
        "f.close()"
      ],
      "metadata": {
        "colab": {
          "base_uri": "https://localhost:8080/"
        },
        "id": "pQ537dl766O8",
        "outputId": "0899adfe-a3ff-413a-ced6-bffdeb696d2a"
      },
      "execution_count": 153,
      "outputs": [
        {
          "output_type": "stream",
          "name": "stdout",
          "text": [
            "['Hello World\\n']\n"
          ]
        }
      ]
    },
    {
      "cell_type": "code",
      "source": [
        "f = open(\"Hello.txt2\",'r') # reads file text from the second created text file\n",
        "\n",
        "lines = f.readlines()\n",
        "\n",
        "print(lines)\n",
        "\n",
        "f.close()"
      ],
      "metadata": {
        "colab": {
          "base_uri": "https://localhost:8080/"
        },
        "id": "groi3ZLj7l0h",
        "outputId": "f7994041-e59d-4c25-cda9-86f730e423bb"
      },
      "execution_count": 154,
      "outputs": [
        {
          "output_type": "stream",
          "name": "stdout",
          "text": [
            "['Hello Brandon\\n']\n"
          ]
        }
      ]
    },
    {
      "cell_type": "code",
      "source": [],
      "metadata": {
        "id": "sNdKGJOt7ugj"
      },
      "execution_count": 154,
      "outputs": []
    },
    {
      "cell_type": "markdown",
      "source": [
        "## Loops"
      ],
      "metadata": {
        "id": "yCx7LqacRxYU"
      }
    },
    {
      "cell_type": "code",
      "source": [
        "for i in range(10): # creates a range of numbers from 0-9\n",
        "    print(i)"
      ],
      "metadata": {
        "colab": {
          "base_uri": "https://localhost:8080/"
        },
        "id": "Gv64CewUR3Zx",
        "outputId": "1da2011d-d73e-4b35-8105-7259df4f0042"
      },
      "execution_count": 155,
      "outputs": [
        {
          "output_type": "stream",
          "name": "stdout",
          "text": [
            "0\n",
            "1\n",
            "2\n",
            "3\n",
            "4\n",
            "5\n",
            "6\n",
            "7\n",
            "8\n",
            "9\n"
          ]
        }
      ]
    },
    {
      "cell_type": "code",
      "source": [
        "for i in range(5,8): # separates the range of numbers to be from 5-7\n",
        "    print(i)"
      ],
      "metadata": {
        "colab": {
          "base_uri": "https://localhost:8080/"
        },
        "id": "HVQGCCGjR5nY",
        "outputId": "fad87a98-d352-4612-9875-bfe3229304d7"
      },
      "execution_count": 156,
      "outputs": [
        {
          "output_type": "stream",
          "name": "stdout",
          "text": [
            "5\n",
            "6\n",
            "7\n"
          ]
        }
      ]
    },
    {
      "cell_type": "code",
      "source": [
        "for i in range(3): # inputs the first three number as test numbers\n",
        "    print(\"Test Number: \",i)"
      ],
      "metadata": {
        "colab": {
          "base_uri": "https://localhost:8080/"
        },
        "id": "UlxdQR7yR5fV",
        "outputId": "8c4981f6-d6b9-4cda-8476-5f2f44f52260"
      },
      "execution_count": 157,
      "outputs": [
        {
          "output_type": "stream",
          "name": "stdout",
          "text": [
            "Test Number:  0\n",
            "Test Number:  1\n",
            "Test Number:  2\n"
          ]
        }
      ]
    },
    {
      "cell_type": "markdown",
      "source": [
        "## Functions"
      ],
      "metadata": {
        "id": "5BjEsIuDTOjy"
      }
    },
    {
      "cell_type": "code",
      "source": [
        "def square(x): # define the code for the square of a number\n",
        "    return x**2"
      ],
      "metadata": {
        "id": "lejiVFpETUQK"
      },
      "execution_count": 158,
      "outputs": []
    },
    {
      "cell_type": "code",
      "source": [
        "square(5) # square of 5"
      ],
      "metadata": {
        "colab": {
          "base_uri": "https://localhost:8080/"
        },
        "id": "VlgKV_ryTUN1",
        "outputId": "e3d8e326-de8c-480f-ec65-c307993f6def"
      },
      "execution_count": 159,
      "outputs": [
        {
          "output_type": "execute_result",
          "data": {
            "text/plain": [
              "25"
            ]
          },
          "metadata": {},
          "execution_count": 159
        }
      ]
    },
    {
      "cell_type": "code",
      "source": [
        "square(6) # square of 6"
      ],
      "metadata": {
        "colab": {
          "base_uri": "https://localhost:8080/"
        },
        "id": "QWEjq_c9TUIg",
        "outputId": "12fc6c88-77ab-4e23-d97f-3db3c4ee16f0"
      },
      "execution_count": 160,
      "outputs": [
        {
          "output_type": "execute_result",
          "data": {
            "text/plain": [
              "36"
            ]
          },
          "metadata": {},
          "execution_count": 160
        }
      ]
    },
    {
      "cell_type": "code",
      "source": [
        "def add_two(x): # defines the code to add 2 to the number inputted\n",
        "    return x+2"
      ],
      "metadata": {
        "id": "Ifx93-xithtM"
      },
      "execution_count": 161,
      "outputs": []
    },
    {
      "cell_type": "code",
      "source": [
        "add_two(5) # add 2 to 5"
      ],
      "metadata": {
        "colab": {
          "base_uri": "https://localhost:8080/"
        },
        "id": "YOzLVIluthvX",
        "outputId": "dcb4431f-baf3-4ed4-a98e-fcb8837ea3fc"
      },
      "execution_count": 162,
      "outputs": [
        {
          "output_type": "execute_result",
          "data": {
            "text/plain": [
              "7"
            ]
          },
          "metadata": {},
          "execution_count": 162
        }
      ]
    },
    {
      "cell_type": "code",
      "source": [
        "add_two(3) # adds 2 to 3"
      ],
      "metadata": {
        "colab": {
          "base_uri": "https://localhost:8080/"
        },
        "id": "gQ9XPkncU12v",
        "outputId": "5fdb9b22-4205-4b5f-f3e5-a44278896df2"
      },
      "execution_count": 163,
      "outputs": [
        {
          "output_type": "execute_result",
          "data": {
            "text/plain": [
              "5"
            ]
          },
          "metadata": {},
          "execution_count": 163
        }
      ]
    },
    {
      "cell_type": "code",
      "source": [
        "square(add_two(5)) # this codes squares the result of adding two to x"
      ],
      "metadata": {
        "colab": {
          "base_uri": "https://localhost:8080/"
        },
        "id": "Rbj7x0pYteTE",
        "outputId": "5cd95046-9086-4b16-fae4-38336a899a6d"
      },
      "execution_count": 164,
      "outputs": [
        {
          "output_type": "execute_result",
          "data": {
            "text/plain": [
              "49"
            ]
          },
          "metadata": {},
          "execution_count": 164
        }
      ]
    },
    {
      "cell_type": "code",
      "source": [
        "square(add_two(8))"
      ],
      "metadata": {
        "colab": {
          "base_uri": "https://localhost:8080/"
        },
        "id": "1DIDfpK9TUEs",
        "outputId": "b98ecf5a-8435-4862-d0a0-5e1d99b15711"
      },
      "execution_count": 165,
      "outputs": [
        {
          "output_type": "execute_result",
          "data": {
            "text/plain": [
              "100"
            ]
          },
          "metadata": {},
          "execution_count": 165
        }
      ]
    },
    {
      "cell_type": "markdown",
      "source": [
        "## Coin Flip"
      ],
      "metadata": {
        "id": "S8J8dBn08UWs"
      }
    },
    {
      "cell_type": "code",
      "source": [
        "import numpy as np # importing the the numpy program\n"
      ],
      "metadata": {
        "id": "a9uoeQyi8R-e"
      },
      "execution_count": 166,
      "outputs": []
    },
    {
      "cell_type": "code",
      "source": [
        "np.random.random() #generates a random number between 0-1"
      ],
      "metadata": {
        "colab": {
          "base_uri": "https://localhost:8080/"
        },
        "id": "YuAxH03j8SA8",
        "outputId": "5ce2ed78-ad88-4b26-b668-eecf63ec7800"
      },
      "execution_count": 167,
      "outputs": [
        {
          "output_type": "execute_result",
          "data": {
            "text/plain": [
              "0.5603889062453637"
            ]
          },
          "metadata": {},
          "execution_count": 167
        }
      ]
    },
    {
      "cell_type": "code",
      "source": [
        "np.random.random()"
      ],
      "metadata": {
        "colab": {
          "base_uri": "https://localhost:8080/"
        },
        "id": "h5ds4Ydd8SDz",
        "outputId": "1484dd8c-615b-4cb7-b6ee-21984d6e6a89"
      },
      "execution_count": 168,
      "outputs": [
        {
          "output_type": "execute_result",
          "data": {
            "text/plain": [
              "0.6509881708126203"
            ]
          },
          "metadata": {},
          "execution_count": 168
        }
      ]
    },
    {
      "cell_type": "code",
      "source": [
        "np.random.random()"
      ],
      "metadata": {
        "colab": {
          "base_uri": "https://localhost:8080/"
        },
        "id": "MAsINU6M8SGs",
        "outputId": "f7a47a12-d8f9-4fb2-f8df-e69b9e1b43c5"
      },
      "execution_count": 169,
      "outputs": [
        {
          "output_type": "execute_result",
          "data": {
            "text/plain": [
              "0.3130919320925176"
            ]
          },
          "metadata": {},
          "execution_count": 169
        }
      ]
    },
    {
      "cell_type": "code",
      "source": [
        "for index in range(10): # gives ten random values\n",
        "    print(index, np.random.random() )"
      ],
      "metadata": {
        "colab": {
          "base_uri": "https://localhost:8080/"
        },
        "id": "TUbNaE568wO8",
        "outputId": "796ca3db-7b50-4f9f-e8e7-95463aea28eb"
      },
      "execution_count": 170,
      "outputs": [
        {
          "output_type": "stream",
          "name": "stdout",
          "text": [
            "0 0.5076347288723553\n",
            "1 0.8275012406056623\n",
            "2 0.9368417303736584\n",
            "3 0.4298301262109675\n",
            "4 0.18962647723514914\n",
            "5 0.5337665045884314\n",
            "6 0.275711648306038\n",
            "7 0.7659327682006306\n",
            "8 0.608347505399971\n",
            "9 0.6167451315071878\n"
          ]
        }
      ]
    },
    {
      "cell_type": "code",
      "source": [
        "for i in range(10):\n",
        "    print( i, np.random.random() )"
      ],
      "metadata": {
        "colab": {
          "base_uri": "https://localhost:8080/"
        },
        "id": "mAtahyKl82KD",
        "outputId": "84a25940-e2f3-49d9-a5e7-c13ba83d58db"
      },
      "execution_count": 171,
      "outputs": [
        {
          "output_type": "stream",
          "name": "stdout",
          "text": [
            "0 0.4526514760577147\n",
            "1 0.35123088686239967\n",
            "2 0.9450851611927237\n",
            "3 0.5250206404366117\n",
            "4 0.21728006490046547\n",
            "5 0.3202578210710112\n",
            "6 0.08857585193021278\n",
            "7 0.22137078363442508\n",
            "8 0.48012026262788443\n",
            "9 0.0943881630678921\n"
          ]
        }
      ]
    },
    {
      "cell_type": "code",
      "source": [
        "for step in range(10): # generates command to relay a random value 10 times\n",
        "    print( step, \"Hello your number is:\", np.random.random() )"
      ],
      "metadata": {
        "colab": {
          "base_uri": "https://localhost:8080/"
        },
        "id": "UePudb2l9bWT",
        "outputId": "f6f0e1e6-d726-420c-dd8b-03a5d110d44d"
      },
      "execution_count": 172,
      "outputs": [
        {
          "output_type": "stream",
          "name": "stdout",
          "text": [
            "0 Hello your number is: 0.16979385136972946\n",
            "1 Hello your number is: 0.039935236666131635\n",
            "2 Hello your number is: 0.4510895820322782\n",
            "3 Hello your number is: 0.825565873864191\n",
            "4 Hello your number is: 0.7348363090129695\n",
            "5 Hello your number is: 0.9007928810695353\n",
            "6 Hello your number is: 0.9163145299042347\n",
            "7 Hello your number is: 0.5390022841763386\n",
            "8 Hello your number is: 0.7623165478928725\n",
            "9 Hello your number is: 0.6209107831758205\n"
          ]
        }
      ]
    },
    {
      "cell_type": "code",
      "source": [
        "np.random.random()"
      ],
      "metadata": {
        "colab": {
          "base_uri": "https://localhost:8080/"
        },
        "id": "_36HALPl96uU",
        "outputId": "ea752dd9-364b-480e-bf57-35cf6496845c"
      },
      "execution_count": 173,
      "outputs": [
        {
          "output_type": "execute_result",
          "data": {
            "text/plain": [
              "0.38347161820046416"
            ]
          },
          "metadata": {},
          "execution_count": 173
        }
      ]
    },
    {
      "cell_type": "code",
      "source": [
        "np.random.random() > 0.5 # testing if the random number is greater than .5"
      ],
      "metadata": {
        "colab": {
          "base_uri": "https://localhost:8080/"
        },
        "id": "e5LGHnQT-Msu",
        "outputId": "cc0f834c-597c-428c-8e40-94f50bf8e234"
      },
      "execution_count": 174,
      "outputs": [
        {
          "output_type": "execute_result",
          "data": {
            "text/plain": [
              "True"
            ]
          },
          "metadata": {},
          "execution_count": 174
        }
      ]
    },
    {
      "cell_type": "code",
      "source": [
        "np.random.random() > 0.5 # result is true in this code"
      ],
      "metadata": {
        "colab": {
          "base_uri": "https://localhost:8080/"
        },
        "id": "xG0Ff6tl-Rj0",
        "outputId": "242a4de6-9bd3-4e4e-8d9f-d9989342c98b"
      },
      "execution_count": 175,
      "outputs": [
        {
          "output_type": "execute_result",
          "data": {
            "text/plain": [
              "True"
            ]
          },
          "metadata": {},
          "execution_count": 175
        }
      ]
    },
    {
      "cell_type": "code",
      "source": [
        "np.random.random() > 0.5 # another true result"
      ],
      "metadata": {
        "colab": {
          "base_uri": "https://localhost:8080/"
        },
        "id": "d0oc5ui2-MvG",
        "outputId": "86f0abd6-d42d-49f2-e520-21b217537020"
      },
      "execution_count": 176,
      "outputs": [
        {
          "output_type": "execute_result",
          "data": {
            "text/plain": [
              "False"
            ]
          },
          "metadata": {},
          "execution_count": 176
        }
      ]
    },
    {
      "cell_type": "code",
      "source": [
        "for flip in range(10): # generates many results if the value is greater than .5\n",
        "  print(np.random.random() > 0.5)"
      ],
      "metadata": {
        "colab": {
          "base_uri": "https://localhost:8080/"
        },
        "id": "9XGYzB2n-My1",
        "outputId": "2b2229e2-1d90-454e-c2d5-b09cc1403b05"
      },
      "execution_count": 177,
      "outputs": [
        {
          "output_type": "stream",
          "name": "stdout",
          "text": [
            "False\n",
            "True\n",
            "False\n",
            "True\n",
            "True\n",
            "False\n",
            "True\n",
            "False\n",
            "False\n",
            "True\n"
          ]
        }
      ]
    },
    {
      "cell_type": "code",
      "source": [
        "for flip in range(10): # defines if the statement is true then it is heads and if anything else than tails\n",
        "    coin = np.random.random() > 0.5 # program does it ten times\n",
        "    if coin == True:\n",
        "      print(\"Heads\")\n",
        "    else:\n",
        "      print(\"Tails\") # setting up the coin flip"
      ],
      "metadata": {
        "colab": {
          "base_uri": "https://localhost:8080/"
        },
        "id": "3HXA6L6n-lkE",
        "outputId": "a751389b-5550-46de-c926-705d67a61e1e"
      },
      "execution_count": 178,
      "outputs": [
        {
          "output_type": "stream",
          "name": "stdout",
          "text": [
            "Tails\n",
            "Heads\n",
            "Tails\n",
            "Heads\n",
            "Heads\n",
            "Tails\n",
            "Heads\n",
            "Tails\n",
            "Tails\n",
            "Heads\n"
          ]
        }
      ]
    },
    {
      "cell_type": "code",
      "source": [
        "def flip_coin():\n",
        "    coin = np.random.random() > 0.5\n",
        "    if coin == True:\n",
        "      print(\"Heads\")\n",
        "    else:\n",
        "      print(\"Tails\") # defines command to relay one result at a time\n"
      ],
      "metadata": {
        "id": "3zRLjnapAxEn"
      },
      "execution_count": 179,
      "outputs": []
    },
    {
      "cell_type": "code",
      "source": [
        "flip_coin() # results in heads"
      ],
      "metadata": {
        "colab": {
          "base_uri": "https://localhost:8080/"
        },
        "id": "h0o_IysnAw9n",
        "outputId": "3f1dab43-28d5-47ef-9a07-494c98b6fc56"
      },
      "execution_count": 180,
      "outputs": [
        {
          "output_type": "stream",
          "name": "stdout",
          "text": [
            "Tails\n"
          ]
        }
      ]
    },
    {
      "cell_type": "code",
      "source": [
        "flip_coin()"
      ],
      "metadata": {
        "colab": {
          "base_uri": "https://localhost:8080/"
        },
        "id": "eLel2ZURAw0Q",
        "outputId": "ac426480-b173-4f1e-a7f0-79446684e9ac"
      },
      "execution_count": 181,
      "outputs": [
        {
          "output_type": "stream",
          "name": "stdout",
          "text": [
            "Tails\n"
          ]
        }
      ]
    },
    {
      "cell_type": "code",
      "source": [
        "for i in range(10): # relays the command ten times\n",
        "    flip_coin()"
      ],
      "metadata": {
        "colab": {
          "base_uri": "https://localhost:8080/"
        },
        "id": "MXd1hQ45Awqn",
        "outputId": "4ddd3106-4fd8-4d40-eff6-9aa09003dea6"
      },
      "execution_count": 182,
      "outputs": [
        {
          "output_type": "stream",
          "name": "stdout",
          "text": [
            "Heads\n",
            "Heads\n",
            "Tails\n",
            "Tails\n",
            "Tails\n",
            "Tails\n",
            "Tails\n",
            "Tails\n",
            "Tails\n",
            "Tails\n"
          ]
        }
      ]
    },
    {
      "cell_type": "code",
      "source": [],
      "metadata": {
        "id": "jfCggaQuCDSo"
      },
      "execution_count": 182,
      "outputs": []
    },
    {
      "cell_type": "markdown",
      "source": [
        "## Graphics"
      ],
      "metadata": {
        "id": "dvQkEKnUClSX"
      }
    },
    {
      "cell_type": "code",
      "source": [
        "from IPython.core.display import display, HTML"
      ],
      "metadata": {
        "id": "-ASAAdEhCnGo"
      },
      "execution_count": 183,
      "outputs": []
    },
    {
      "cell_type": "code",
      "source": [
        "display(HTML('<h1>Hello World</h1>')) # displays \"Hello World\""
      ],
      "metadata": {
        "colab": {
          "base_uri": "https://localhost:8080/",
          "height": 74
        },
        "id": "peLl7BS3CyR5",
        "outputId": "32b21546-a253-40e0-d27a-87692ac76326"
      },
      "execution_count": 184,
      "outputs": [
        {
          "output_type": "display_data",
          "data": {
            "text/plain": [
              "<IPython.core.display.HTML object>"
            ],
            "text/html": [
              "<h1>Hello World</h1>"
            ]
          },
          "metadata": {}
        }
      ]
    },
    {
      "cell_type": "code",
      "source": [
        "np.random.randint(2) # generates an integer from 0-1"
      ],
      "metadata": {
        "colab": {
          "base_uri": "https://localhost:8080/"
        },
        "id": "WDCmfJZ45xiX",
        "outputId": "a68c1120-5c7a-4fa7-a182-61b40e11de51"
      },
      "execution_count": 185,
      "outputs": [
        {
          "output_type": "execute_result",
          "data": {
            "text/plain": [
              "1"
            ]
          },
          "metadata": {},
          "execution_count": 185
        }
      ]
    },
    {
      "cell_type": "code",
      "source": [
        "np.random.randint(2)"
      ],
      "metadata": {
        "colab": {
          "base_uri": "https://localhost:8080/"
        },
        "id": "oN8DFpRwaQwe",
        "outputId": "4b6cbb04-4643-4920-cc69-e210c2a8b38b"
      },
      "execution_count": 186,
      "outputs": [
        {
          "output_type": "execute_result",
          "data": {
            "text/plain": [
              "1"
            ]
          },
          "metadata": {},
          "execution_count": 186
        }
      ]
    },
    {
      "cell_type": "code",
      "source": [
        "np.random.random()"
      ],
      "metadata": {
        "colab": {
          "base_uri": "https://localhost:8080/"
        },
        "id": "wbMnJljy5xao",
        "outputId": "bbde56b3-dfb6-4d07-b9e7-fe8be1592a0e"
      },
      "execution_count": 187,
      "outputs": [
        {
          "output_type": "execute_result",
          "data": {
            "text/plain": [
              "0.2585872761313055"
            ]
          },
          "metadata": {},
          "execution_count": 187
        }
      ]
    },
    {
      "cell_type": "code",
      "source": [
        "np.random.randint(5) # random integer command from 0-4"
      ],
      "metadata": {
        "colab": {
          "base_uri": "https://localhost:8080/"
        },
        "id": "vXniL24e6DP5",
        "outputId": "3fef4f91-183e-4be9-bf47-92c8dd4e4640"
      },
      "execution_count": 188,
      "outputs": [
        {
          "output_type": "execute_result",
          "data": {
            "text/plain": [
              "4"
            ]
          },
          "metadata": {},
          "execution_count": 188
        }
      ]
    },
    {
      "cell_type": "code",
      "source": [
        "np.random.randint(6)"
      ],
      "metadata": {
        "colab": {
          "base_uri": "https://localhost:8080/"
        },
        "id": "bxdmPejh6LLn",
        "outputId": "6acff302-79e2-4037-e598-f7e306b64b80"
      },
      "execution_count": 189,
      "outputs": [
        {
          "output_type": "execute_result",
          "data": {
            "text/plain": [
              "0"
            ]
          },
          "metadata": {},
          "execution_count": 189
        }
      ]
    },
    {
      "cell_type": "code",
      "source": [
        "for i in range(10): # range of random integers between 0-5\n",
        "    print(np.random.randint(6))"
      ],
      "metadata": {
        "colab": {
          "base_uri": "https://localhost:8080/"
        },
        "id": "-qBhBqKA6Zag",
        "outputId": "497ea309-a530-4a11-a606-7c3f28fe64f6"
      },
      "execution_count": 190,
      "outputs": [
        {
          "output_type": "stream",
          "name": "stdout",
          "text": [
            "5\n",
            "3\n",
            "0\n",
            "5\n",
            "0\n",
            "4\n",
            "0\n",
            "4\n",
            "3\n",
            "1\n"
          ]
        }
      ]
    },
    {
      "cell_type": "code",
      "source": [
        "coin_heads_url = \"https://random-ize.com/coin-flip/us-quarter/us-quarter-front.jpg\""
      ],
      "metadata": {
        "id": "7TwROD_eDFHY"
      },
      "execution_count": 191,
      "outputs": []
    },
    {
      "cell_type": "markdown",
      "source": [
        "assigns a picture to \"coin_heads_url\" "
      ],
      "metadata": {
        "id": "BO9bRzzgbR3d"
      }
    },
    {
      "cell_type": "code",
      "source": [
        "coin_tails_url = \"https://random-ize.com/coin-flip/us-quarter/us-quarter-back.jpg\""
      ],
      "metadata": {
        "id": "xx7rY6hqDpRa"
      },
      "execution_count": 192,
      "outputs": []
    },
    {
      "cell_type": "markdown",
      "source": [
        "assigns picture to \"coin_tails_url"
      ],
      "metadata": {
        "id": "S4t713vdbn9k"
      }
    },
    {
      "cell_type": "code",
      "source": [
        "display(HTML('<img src=\"https://random-ize.com/coin-flip/us-quarter/us-quarter-front.jpg\">'))"
      ],
      "metadata": {
        "colab": {
          "base_uri": "https://localhost:8080/",
          "height": 221
        },
        "id": "dJs3EXjAD6jK",
        "outputId": "453ad7ce-0356-479a-8e74-4340b2494b1a"
      },
      "execution_count": 193,
      "outputs": [
        {
          "output_type": "display_data",
          "data": {
            "text/plain": [
              "<IPython.core.display.HTML object>"
            ],
            "text/html": [
              "<img src=\"https://random-ize.com/coin-flip/us-quarter/us-quarter-front.jpg\">"
            ]
          },
          "metadata": {}
        }
      ]
    },
    {
      "cell_type": "markdown",
      "source": [
        "displays picture for Heads"
      ],
      "metadata": {
        "id": "D1z8VrzvbuYS"
      }
    },
    {
      "cell_type": "code",
      "source": [
        "display(HTML('<img src=\"https://random-ize.com/coin-flip/us-quarter/us-quarter-back.jpg\">'))"
      ],
      "metadata": {
        "colab": {
          "base_uri": "https://localhost:8080/",
          "height": 221
        },
        "id": "rZF9cRJ_E9i7",
        "outputId": "2d61bb34-f6a3-40bc-dcc5-f4dae52f9625"
      },
      "execution_count": 194,
      "outputs": [
        {
          "output_type": "display_data",
          "data": {
            "text/plain": [
              "<IPython.core.display.HTML object>"
            ],
            "text/html": [
              "<img src=\"https://random-ize.com/coin-flip/us-quarter/us-quarter-back.jpg\">"
            ]
          },
          "metadata": {}
        }
      ]
    },
    {
      "cell_type": "markdown",
      "source": [
        "displays picture for Tails"
      ],
      "metadata": {
        "id": "AOghjs1fb80A"
      }
    },
    {
      "cell_type": "code",
      "source": [
        "def show_img(img): # adjust the size of the coin picures\n",
        "    display(HTML('<img src =' + img + ' width = 100>'))"
      ],
      "metadata": {
        "id": "GPDXnl7oEeT6"
      },
      "execution_count": 195,
      "outputs": []
    },
    {
      "cell_type": "code",
      "source": [
        "show_img(coin_heads_url) # shows the picture resized"
      ],
      "metadata": {
        "colab": {
          "base_uri": "https://localhost:8080/",
          "height": 121
        },
        "id": "Z5elRql6FXDV",
        "outputId": "2fc63e0e-ce24-4c4c-a03f-10a498eea9c6"
      },
      "execution_count": 196,
      "outputs": [
        {
          "output_type": "display_data",
          "data": {
            "text/plain": [
              "<IPython.core.display.HTML object>"
            ],
            "text/html": [
              "<img src =https://random-ize.com/coin-flip/us-quarter/us-quarter-front.jpg width = 100>"
            ]
          },
          "metadata": {}
        }
      ]
    },
    {
      "cell_type": "code",
      "source": [
        "show_img(coin_tails_url) # shows the picture resized"
      ],
      "metadata": {
        "colab": {
          "base_uri": "https://localhost:8080/",
          "height": 121
        },
        "id": "WDRXeGfOFb5b",
        "outputId": "ebb27e7c-37e5-4a77-9789-aaf23d23aff6"
      },
      "execution_count": 197,
      "outputs": [
        {
          "output_type": "display_data",
          "data": {
            "text/plain": [
              "<IPython.core.display.HTML object>"
            ],
            "text/html": [
              "<img src =https://random-ize.com/coin-flip/us-quarter/us-quarter-back.jpg width = 100>"
            ]
          },
          "metadata": {}
        }
      ]
    },
    {
      "cell_type": "code",
      "source": [
        "def flip_coin(): # defines the command for the coin flip to show the pictures instead of saying what it is in words\n",
        "    coin = np.random.random() > 0.5\n",
        "    if coin == True:\n",
        "      show_img(coin_heads_url)\n",
        "    else:\n",
        "      show_img(coin_tails_url)"
      ],
      "metadata": {
        "id": "ifs54I2iG2nV"
      },
      "execution_count": 198,
      "outputs": []
    },
    {
      "cell_type": "code",
      "source": [
        "flip_coin() # displays an actual coin of tails"
      ],
      "metadata": {
        "colab": {
          "base_uri": "https://localhost:8080/",
          "height": 121
        },
        "id": "shIJnSi6IEns",
        "outputId": "36a5fa42-ada6-45df-d0dd-4cf877a50605"
      },
      "execution_count": 199,
      "outputs": [
        {
          "output_type": "display_data",
          "data": {
            "text/plain": [
              "<IPython.core.display.HTML object>"
            ],
            "text/html": [
              "<img src =https://random-ize.com/coin-flip/us-quarter/us-quarter-front.jpg width = 100>"
            ]
          },
          "metadata": {}
        }
      ]
    },
    {
      "cell_type": "code",
      "source": [
        "for i in range(5): # displays the coin for each result\n",
        "    flip_coin()"
      ],
      "metadata": {
        "id": "s5TWAzg0IGc0",
        "colab": {
          "base_uri": "https://localhost:8080/",
          "height": 537
        },
        "outputId": "a0f981ae-82e5-474f-8e5b-d7c459a389a4"
      },
      "execution_count": 200,
      "outputs": [
        {
          "output_type": "display_data",
          "data": {
            "text/plain": [
              "<IPython.core.display.HTML object>"
            ],
            "text/html": [
              "<img src =https://random-ize.com/coin-flip/us-quarter/us-quarter-back.jpg width = 100>"
            ]
          },
          "metadata": {}
        },
        {
          "output_type": "display_data",
          "data": {
            "text/plain": [
              "<IPython.core.display.HTML object>"
            ],
            "text/html": [
              "<img src =https://random-ize.com/coin-flip/us-quarter/us-quarter-back.jpg width = 100>"
            ]
          },
          "metadata": {}
        },
        {
          "output_type": "display_data",
          "data": {
            "text/plain": [
              "<IPython.core.display.HTML object>"
            ],
            "text/html": [
              "<img src =https://random-ize.com/coin-flip/us-quarter/us-quarter-front.jpg width = 100>"
            ]
          },
          "metadata": {}
        },
        {
          "output_type": "display_data",
          "data": {
            "text/plain": [
              "<IPython.core.display.HTML object>"
            ],
            "text/html": [
              "<img src =https://random-ize.com/coin-flip/us-quarter/us-quarter-back.jpg width = 100>"
            ]
          },
          "metadata": {}
        },
        {
          "output_type": "display_data",
          "data": {
            "text/plain": [
              "<IPython.core.display.HTML object>"
            ],
            "text/html": [
              "<img src =https://random-ize.com/coin-flip/us-quarter/us-quarter-front.jpg width = 100>"
            ]
          },
          "metadata": {}
        }
      ]
    },
    {
      "cell_type": "code",
      "source": [],
      "metadata": {
        "id": "RVO--P-P68Cv"
      },
      "execution_count": 200,
      "outputs": []
    }
  ]
}